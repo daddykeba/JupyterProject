{
 "cells": [
  {
   "cell_type": "code",
   "execution_count": 1,
   "metadata": {},
   "outputs": [],
   "source": [
    "import matplotlib.pyplot as plt\n",
    "import tensorflow as tf\n",
    "import numpy as np\n",
    "import pandas as pd\n",
    "import sys\n",
    "\n",
    "from sklearn.preprocessing import StandardScaler\n",
    "from sklearn.model_selection import train_test_split"
   ]
  },
  {
   "cell_type": "code",
   "execution_count": 21,
   "metadata": {},
   "outputs": [],
   "source": [
    "assert hasattr(tf, 'function')"
   ]
  },
  {
   "cell_type": "markdown",
   "metadata": {},
   "source": [
    "## Load dataset MNIST"
   ]
  },
  {
   "cell_type": "code",
   "execution_count": 3,
   "metadata": {},
   "outputs": [
    {
     "name": "stdout",
     "output_type": "stream",
     "text": [
      "(8000, 784) (8000,)\n",
      "(2000, 784) (2000,)\n"
     ]
    }
   ],
   "source": [
    "#LOAD FASHIONMNIST\n",
    "fashion_mnist = tf.keras.datasets.fashion_mnist\n",
    "#Load images and targets\n",
    "(images, targets), (images_test, targets_test) = fashion_mnist.load_data()\n",
    "\n",
    "images = images[:10000]\n",
    "targets = targets[:10000]\n",
    "\n",
    "#Flatten \n",
    "images = images.reshape(-1, 784)\n",
    "images = images.astype(float)\n",
    "images_test = images_test.reshape(-1, 784)\n",
    "images_test = images_test.astype(float)\n",
    "\n",
    "scaler = StandardScaler()\n",
    "images = scaler.fit_transform(images)\n",
    "images_test = scaler.fit_transform(images_test)\n",
    "\n",
    "images_train, images_test, targets_train, targets_test = train_test_split(images, targets, test_size=0.2, random_state=1)\n",
    "\n",
    "print(images_train.shape, targets_train.shape)\n",
    "print(images_test.shape, targets_test.shape)\n",
    "\n",
    "#print(images.mean())\n",
    "#print(targets.std())\n",
    "\n",
    "#print(images.shape)\n",
    "#print(targets.shape)\n",
    "\n",
    "#print(images[0])\n",
    "#print(targets[0])"
   ]
  },
  {
   "cell_type": "code",
   "execution_count": 4,
   "metadata": {},
   "outputs": [
    {
     "data": {
      "image/png": "[encoded data removed]",
      "text/plain": [
       "<Figure size 432x288 with 1 Axes>"
      ]
     },
     "metadata": {
      "needs_background": "light"
     },
     "output_type": "display_data"
    }
   ],
   "source": [
    "targets_names = [\"T-shirt/top\", \"Trouser\", \"Pullover\", \"Dress\", \"Coat\", \"Saandal\", \"Shirt\", \"Sneaker\", \"Bag\", \"Ankle boot\"]\n",
    "\n",
    "#Plot Image\n",
    "plt.imshow(np.reshape(images[10], (28, 28)), cmap=\"binary\")\n",
    "plt.title(targets_names[targets[10]])\n",
    "plt.show()"
   ]
  },
  {
   "cell_type": "markdown",
   "metadata": {},
   "source": [
    "# CREATE MODEL"
   ]
  },
  {
   "cell_type": "code",
   "execution_count": 18,
   "metadata": {},
   "outputs": [
    {
     "name": "stdout",
     "output_type": "stream",
     "text": [
      "Shape of the image (1, 784)\n",
      "Shape of the message after the Flatten (1, 784)\n"
     ]
    }
   ],
   "source": [
    "model = tf.keras.models.Sequential()\n",
    "\n",
    "#Opération d'applatissement de l'image avec flatten\n",
    "#model.add(tf.keras.layers.Flatten(input_shape=[28, 28]))\n",
    "\n",
    "print(\"Shape of the image\", images[0:1].shape)\n",
    "model_output = model.predict(images[0:1])\n",
    "print(\"Shape of the message after the Flatten\", model_output.shape)"
   ]
  },
  {
   "cell_type": "markdown",
   "metadata": {},
   "source": [
    "# AJOUT DES LAYERS"
   ]
  },
  {
   "cell_type": "code",
   "execution_count": 19,
   "metadata": {},
   "outputs": [
    {
     "name": "stdout",
     "output_type": "stream",
     "text": [
      "[[0.07777978 0.11220729 0.03361129 0.10215214 0.00577518 0.19930193\n",
      "  0.17009251 0.20529525 0.06667136 0.02711316]] [9]\n"
     ]
    }
   ],
   "source": [
    "#Flatten\n",
    "model = tf.keras.models.Sequential()\n",
    "#model.add(tf.keras.layers.Flatten(input_shape=[28, 28]))\n",
    "\n",
    "#Ajout de layers\n",
    "model.add(tf.keras.layers.Dense(256, activation=\"relu\"))\n",
    "model.add(tf.keras.layers.Dense(128, activation=\"relu\"))\n",
    "model.add(tf.keras.layers.Dense(10, activation=\"softmax\"))\n",
    "\n",
    "model_output = model.predict(images[0:1])\n",
    "print( model_output, targets[0:1])\n"
   ]
  },
  {
   "cell_type": "markdown",
   "metadata": {},
   "source": [
    "  # Model Summary"
   ]
  },
  {
   "cell_type": "code",
   "execution_count": 20,
   "metadata": {},
   "outputs": [
    {
     "name": "stdout",
     "output_type": "stream",
     "text": [
      "Model: \"sequential_5\"\n",
      "_________________________________________________________________\n",
      "Layer (type)                 Output Shape              Param #   \n",
      "=================================================================\n",
      "dense_6 (Dense)              multiple                  200960    \n",
      "_________________________________________________________________\n",
      "dense_7 (Dense)              multiple                  32896     \n",
      "_________________________________________________________________\n",
      "dense_8 (Dense)              multiple                  1290      \n",
      "=================================================================\n",
      "Total params: 235,146\n",
      "Trainable params: 235,146\n",
      "Non-trainable params: 0\n",
      "_________________________________________________________________\n"
     ]
    }
   ],
   "source": [
    "model.summary()"
   ]
  },
  {
   "cell_type": "markdown",
   "metadata": {},
   "source": [
    "# Compiler le model"
   ]
  },
  {
   "cell_type": "code",
   "execution_count": 21,
   "metadata": {},
   "outputs": [],
   "source": [
    "# Minimisation de l'erreur\n",
    "model.compile(loss=\"sparse_categorical_crossentropy\", optimizer=\"sgd\", metrics=[\"accuracy\"])"
   ]
  },
  {
   "cell_type": "markdown",
   "metadata": {},
   "source": [
    "# TRAIN THE MODEL"
   ]
  },
  {
   "cell_type": "code",
   "execution_count": 22,
   "metadata": {},
   "outputs": [
    {
     "name": "stdout",
     "output_type": "stream",
     "text": [
      "Train on 6400 samples, validate on 1600 samples\n",
      "Epoch 1/50\n",
      "6400/6400 [==============================] - 1s 159us/sample - loss: 1.9083 - accuracy: 0.3484 - val_loss: 1.4856 - val_accuracy: 0.5456\n",
      "Epoch 2/50\n",
      "6400/6400 [==============================] - 1s 95us/sample - loss: 1.2883 - accuracy: 0.6120 - val_loss: 1.1544 - val_accuracy: 0.6513\n",
      "Epoch 3/50\n",
      "6400/6400 [==============================] - 1s 97us/sample - loss: 1.0472 - accuracy: 0.6808 - val_loss: 0.9940 - val_accuracy: 0.6956\n",
      "Epoch 4/50\n",
      "6400/6400 [==============================] - 1s 97us/sample - loss: 0.9161 - accuracy: 0.7120 - val_loss: 0.8968 - val_accuracy: 0.7175\n",
      "Epoch 5/50\n",
      "6400/6400 [==============================] - 1s 91us/sample - loss: 0.8314 - accuracy: 0.7352 - val_loss: 0.8317 - val_accuracy: 0.7337\n",
      "Epoch 6/50\n",
      "6400/6400 [==============================] - 1s 93us/sample - loss: 0.7709 - accuracy: 0.7508 - val_loss: 0.7840 - val_accuracy: 0.7462\n",
      "Epoch 7/50\n",
      "6400/6400 [==============================] - 1s 91us/sample - loss: 0.7248 - accuracy: 0.7647 - val_loss: 0.7471 - val_accuracy: 0.7581\n",
      "Epoch 8/50\n",
      "6400/6400 [==============================] - 1s 91us/sample - loss: 0.6879 - accuracy: 0.7761 - val_loss: 0.7156 - val_accuracy: 0.7625\n",
      "Epoch 9/50\n",
      "6400/6400 [==============================] - 1s 90us/sample - loss: 0.6575 - accuracy: 0.7820 - val_loss: 0.6907 - val_accuracy: 0.7669\n",
      "Epoch 10/50\n",
      "6400/6400 [==============================] - 1s 91us/sample - loss: 0.6315 - accuracy: 0.7889 - val_loss: 0.6710 - val_accuracy: 0.7719\n",
      "Epoch 11/50\n",
      "6400/6400 [==============================] - 1s 91us/sample - loss: 0.6089 - accuracy: 0.7945 - val_loss: 0.6522 - val_accuracy: 0.7788\n",
      "Epoch 12/50\n",
      "6400/6400 [==============================] - 1s 91us/sample - loss: 0.5897 - accuracy: 0.8008 - val_loss: 0.6363 - val_accuracy: 0.7806\n",
      "Epoch 13/50\n",
      "6400/6400 [==============================] - 1s 94us/sample - loss: 0.5720 - accuracy: 0.8066 - val_loss: 0.6235 - val_accuracy: 0.7844\n",
      "Epoch 14/50\n",
      "6400/6400 [==============================] - 1s 91us/sample - loss: 0.5562 - accuracy: 0.8100 - val_loss: 0.6102 - val_accuracy: 0.7856\n",
      "Epoch 15/50\n",
      "6400/6400 [==============================] - 1s 91us/sample - loss: 0.5417 - accuracy: 0.8158 - val_loss: 0.5990 - val_accuracy: 0.7869\n",
      "Epoch 16/50\n",
      "6400/6400 [==============================] - 1s 92us/sample - loss: 0.5288 - accuracy: 0.8180 - val_loss: 0.5904 - val_accuracy: 0.7925\n",
      "Epoch 17/50\n",
      "6400/6400 [==============================] - 1s 100us/sample - loss: 0.5171 - accuracy: 0.8233 - val_loss: 0.5811 - val_accuracy: 0.7962\n",
      "Epoch 18/50\n",
      "6400/6400 [==============================] - 1s 100us/sample - loss: 0.5062 - accuracy: 0.8264 - val_loss: 0.5712 - val_accuracy: 0.7981\n",
      "Epoch 19/50\n",
      "6400/6400 [==============================] - 1s 89us/sample - loss: 0.4960 - accuracy: 0.8283 - val_loss: 0.5647 - val_accuracy: 0.8025\n",
      "Epoch 20/50\n",
      "6400/6400 [==============================] - 1s 94us/sample - loss: 0.4866 - accuracy: 0.8323 - val_loss: 0.5568 - val_accuracy: 0.8050\n",
      "Epoch 21/50\n",
      "6400/6400 [==============================] - 1s 91us/sample - loss: 0.4773 - accuracy: 0.8377 - val_loss: 0.5519 - val_accuracy: 0.8044\n",
      "Epoch 22/50\n",
      "6400/6400 [==============================] - 1s 92us/sample - loss: 0.4695 - accuracy: 0.8380 - val_loss: 0.5461 - val_accuracy: 0.8075\n",
      "Epoch 23/50\n",
      "6400/6400 [==============================] - 1s 90us/sample - loss: 0.4617 - accuracy: 0.8409 - val_loss: 0.5404 - val_accuracy: 0.8094\n",
      "Epoch 24/50\n",
      "6400/6400 [==============================] - 1s 92us/sample - loss: 0.4545 - accuracy: 0.8442 - val_loss: 0.5351 - val_accuracy: 0.8150\n",
      "Epoch 25/50\n",
      "6400/6400 [==============================] - 1s 94us/sample - loss: 0.4476 - accuracy: 0.8467 - val_loss: 0.5307 - val_accuracy: 0.8156\n",
      "Epoch 26/50\n",
      "6400/6400 [==============================] - 1s 97us/sample - loss: 0.4409 - accuracy: 0.8486 - val_loss: 0.5258 - val_accuracy: 0.8200\n",
      "Epoch 27/50\n",
      "6400/6400 [==============================] - 1s 97us/sample - loss: 0.4345 - accuracy: 0.8520 - val_loss: 0.5221 - val_accuracy: 0.8200\n",
      "Epoch 28/50\n",
      "6400/6400 [==============================] - 1s 92us/sample - loss: 0.4284 - accuracy: 0.8536 - val_loss: 0.5185 - val_accuracy: 0.8188\n",
      "Epoch 29/50\n",
      "6400/6400 [==============================] - 1s 96us/sample - loss: 0.4231 - accuracy: 0.8570 - val_loss: 0.5147 - val_accuracy: 0.8219\n",
      "Epoch 30/50\n",
      "6400/6400 [==============================] - 1s 93us/sample - loss: 0.4175 - accuracy: 0.8570 - val_loss: 0.5118 - val_accuracy: 0.8219\n",
      "Epoch 31/50\n",
      "6400/6400 [==============================] - 1s 95us/sample - loss: 0.4125 - accuracy: 0.8608 - val_loss: 0.5078 - val_accuracy: 0.8225\n",
      "Epoch 32/50\n",
      "6400/6400 [==============================] - 1s 97us/sample - loss: 0.4073 - accuracy: 0.8616 - val_loss: 0.5060 - val_accuracy: 0.8225\n",
      "Epoch 33/50\n",
      "6400/6400 [==============================] - 1s 99us/sample - loss: 0.4026 - accuracy: 0.8636 - val_loss: 0.5025 - val_accuracy: 0.8225\n",
      "Epoch 34/50\n",
      "6400/6400 [==============================] - 1s 101us/sample - loss: 0.3981 - accuracy: 0.8653 - val_loss: 0.4994 - val_accuracy: 0.8238\n",
      "Epoch 35/50\n",
      "6400/6400 [==============================] - 1s 98us/sample - loss: 0.3936 - accuracy: 0.8689 - val_loss: 0.4969 - val_accuracy: 0.8250\n",
      "Epoch 36/50\n",
      "6400/6400 [==============================] - 1s 98us/sample - loss: 0.3894 - accuracy: 0.8687 - val_loss: 0.4943 - val_accuracy: 0.8238\n",
      "Epoch 37/50\n",
      "6400/6400 [==============================] - 1s 100us/sample - loss: 0.3854 - accuracy: 0.8708 - val_loss: 0.4919 - val_accuracy: 0.8238\n",
      "Epoch 38/50\n",
      "6400/6400 [==============================] - 1s 96us/sample - loss: 0.3811 - accuracy: 0.8723 - val_loss: 0.4903 - val_accuracy: 0.8244\n",
      "Epoch 39/50\n",
      "6400/6400 [==============================] - 1s 102us/sample - loss: 0.3774 - accuracy: 0.8725 - val_loss: 0.4875 - val_accuracy: 0.8244\n",
      "Epoch 40/50\n",
      "6400/6400 [==============================] - 1s 106us/sample - loss: 0.3732 - accuracy: 0.8745 - val_loss: 0.4865 - val_accuracy: 0.8288\n",
      "Epoch 41/50\n",
      "6400/6400 [==============================] - 1s 101us/sample - loss: 0.3702 - accuracy: 0.8741 - val_loss: 0.4837 - val_accuracy: 0.8250\n",
      "Epoch 42/50\n",
      "6400/6400 [==============================] - 1s 100us/sample - loss: 0.3667 - accuracy: 0.8747 - val_loss: 0.4828 - val_accuracy: 0.8294\n",
      "Epoch 43/50\n",
      "6400/6400 [==============================] - 1s 103us/sample - loss: 0.3632 - accuracy: 0.8753 - val_loss: 0.4818 - val_accuracy: 0.8275\n",
      "Epoch 44/50\n",
      "6400/6400 [==============================] - 1s 105us/sample - loss: 0.3598 - accuracy: 0.8781 - val_loss: 0.4799 - val_accuracy: 0.8306\n",
      "Epoch 45/50\n",
      "6400/6400 [==============================] - 1s 105us/sample - loss: 0.3569 - accuracy: 0.8778 - val_loss: 0.4766 - val_accuracy: 0.8288\n",
      "Epoch 46/50\n",
      "6400/6400 [==============================] - 1s 99us/sample - loss: 0.3535 - accuracy: 0.8802 - val_loss: 0.4751 - val_accuracy: 0.8331\n",
      "Epoch 47/50\n",
      "6400/6400 [==============================] - 1s 100us/sample - loss: 0.3503 - accuracy: 0.8795 - val_loss: 0.4756 - val_accuracy: 0.8300\n",
      "Epoch 48/50\n",
      "6400/6400 [==============================] - 1s 93us/sample - loss: 0.3474 - accuracy: 0.8827 - val_loss: 0.4729 - val_accuracy: 0.8306\n",
      "Epoch 49/50\n",
      "6400/6400 [==============================] - 1s 95us/sample - loss: 0.3443 - accuracy: 0.8831 - val_loss: 0.4714 - val_accuracy: 0.8344\n",
      "Epoch 50/50\n",
      "6400/6400 [==============================] - 1s 99us/sample - loss: 0.3413 - accuracy: 0.8842 - val_loss: 0.4717 - val_accuracy: 0.8306\n"
     ]
    }
   ],
   "source": [
    "history = model.fit(images_train, targets_train, epochs=50, validation_split=0.2)"
   ]
  },
  {
   "cell_type": "code",
   "execution_count": 24,
   "metadata": {},
   "outputs": [
    {
     "data": {
      "image/png": "[encoded data removed]",
      "text/plain": [
       "<Figure size 432x288 with 1 Axes>"
      ]
     },
     "metadata": {
      "needs_background": "light"
     },
     "output_type": "display_data"
    },
    {
     "data": {
      "image/png": "[encoded data removed]",
      "text/plain": [
       "<Figure size 432x288 with 1 Axes>"
      ]
     },
     "metadata": {
      "needs_background": "light"
     },
     "output_type": "display_data"
    }
   ],
   "source": [
    "loss_curve = history.history[\"loss\"]\n",
    "acc_curve = history.history[\"accuracy\"]\n",
    "\n",
    "loss_val_curve = history.history[\"val_loss\"]\n",
    "acc_val_curve = history.history[\"val_accuracy\"]\n",
    "\n",
    "plt.plot(loss_curve, label=\"Train\")\n",
    "plt.plot(loss_val_curve, label=\"Validation\")\n",
    "plt.legend(loc='upper left')\n",
    "plt.title(\"Loss\")\n",
    "plt.show()\n",
    "\n",
    "plt.plot(acc_curve, label=\"Train\")\n",
    "plt.plot(acc_val_curve, label=\"Validation\")\n",
    "plt.legend(loc='upper left')\n",
    "plt.title(\"Accuracy\")\n",
    "plt.show()"
   ]
  },
  {
   "cell_type": "code",
   "execution_count": 25,
   "metadata": {},
   "outputs": [
    {
     "name": "stdout",
     "output_type": "stream",
     "text": [
      "2000/2000 [==============================] - 0s 45us/sample - loss: 0.4730 - accuracy: 0.8370\n",
      "Test Loss 0.47302536725997923\n",
      "Test Accuracy 0.837\n"
     ]
    }
   ],
   "source": [
    "loss, acc = model.evaluate(images_test, targets_test)\n",
    "print(\"Test Loss\", loss)\n",
    "print(\"Test Accuracy\", acc)"
   ]
  },
  {
   "cell_type": "markdown",
   "metadata": {},
   "source": [
    "## Sauvegarder le modèle"
   ]
  },
  {
   "cell_type": "code",
   "execution_count": 5,
   "metadata": {},
   "outputs": [
    {
     "name": "stdout",
     "output_type": "stream",
     "text": [
      "WARNING:tensorflow:Sequential models without an `input_shape` passed to the first layer cannot reload their optimizer state. As a result, your model isstarting with a freshly initialized optimizer.\n",
      "[[1.2511560e-03 9.9087781e-01 2.1927655e-04 6.9452240e-03 2.4472032e-04\n",
      "  2.4823046e-05 1.3566379e-04 4.3572829e-05 2.5066684e-04 7.1045602e-06]] [1]\n"
     ]
    }
   ],
   "source": [
    "#model.save('simple_nn.h5')\n",
    "\n",
    "#Load model\n",
    "loaded_model= tf.keras.models.load_model('simple_nn.h5')\n",
    "print(loaded_model.predict(images_test[0:1]), targets_test[0:1])\n",
    "#loss, acc = loaded_model.evaluate(images_test, targets_test)\n",
    "#print('Loss', loss)\n",
    "#print('Accuracy', acc)"
   ]
  },
  {
   "cell_type": "code",
   "execution_count": null,
   "metadata": {},
   "outputs": [],
   "source": []
  }
 ],
 "metadata": {
  "kernelspec": {
   "display_name": "Python 3",
   "language": "python",
   "name": "python3"
  },
  "language_info": {
   "codemirror_mode": {
    "name": "ipython",
    "version": 3
   },
   "file_extension": ".py",
   "mimetype": "text/x-python",
   "name": "python",
   "nbconvert_exporter": "python",
   "pygments_lexer": "ipython3",
   "version": "3.7.3"
  }
 },
 "nbformat": 4,
 "nbformat_minor": 2
}
