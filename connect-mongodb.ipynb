{
 "cells": [
  {
   "cell_type": "code",
   "execution_count": 1,
   "metadata": {},
   "outputs": [],
   "source": [
    "import pymongo\n",
    "import pandas as pd\n",
    "from pymongo import MongoClient"
   ]
  },
  {
   "cell_type": "code",
   "execution_count": 7,
   "metadata": {},
   "outputs": [],
   "source": [
    "client = MongoClient()\n",
    "\n",
    "#point the client at mongo URI\n",
    "client = MongoClient('localhost:27017')\n",
    "#select database\n",
    "db = client['acme']\n",
    "#select the collection within the database\n",
    "test = db.posts\n",
    "#convert entire collection to Pandas dataframe\n",
    "test = pd.DataFrame(list(test.find()))"
   ]
  },
  {
   "cell_type": "code",
   "execution_count": 8,
   "metadata": {},
   "outputs": [
    {
     "data": {
      "text/html": [
       "<div>\n",
       "<style scoped>\n",
       "    .dataframe tbody tr th:only-of-type {\n",
       "        vertical-align: middle;\n",
       "    }\n",
       "\n",
       "    .dataframe tbody tr th {\n",
       "        vertical-align: top;\n",
       "    }\n",
       "\n",
       "    .dataframe thead th {\n",
       "        text-align: right;\n",
       "    }\n",
       "</style>\n",
       "<table border=\"1\" class=\"dataframe\">\n",
       "  <thead>\n",
       "    <tr style=\"text-align: right;\">\n",
       "      <th></th>\n",
       "      <th>_id</th>\n",
       "      <th>body</th>\n",
       "      <th>category</th>\n",
       "      <th>date</th>\n",
       "      <th>likes</th>\n",
       "      <th>tags</th>\n",
       "      <th>title</th>\n",
       "      <th>user</th>\n",
       "    </tr>\n",
       "  </thead>\n",
       "  <tbody>\n",
       "    <tr>\n",
       "      <th>0</th>\n",
       "      <td>5db00e891f1001443d634af4</td>\n",
       "      <td>Body of post one</td>\n",
       "      <td>News</td>\n",
       "      <td>Wed Oct 23 2019 08:25:45 GMT+0000</td>\n",
       "      <td>4.0</td>\n",
       "      <td>[news, events]</td>\n",
       "      <td>Post One</td>\n",
       "      <td>{'name': 'Jonh Doe', 'status': 'author'}</td>\n",
       "    </tr>\n",
       "  </tbody>\n",
       "</table>\n",
       "</div>"
      ],
      "text/plain": [
       "                        _id              body category  \\\n",
       "0  5db00e891f1001443d634af4  Body of post one     News   \n",
       "\n",
       "                                date  likes            tags     title  \\\n",
       "0  Wed Oct 23 2019 08:25:45 GMT+0000    4.0  [news, events]  Post One   \n",
       "\n",
       "                                       user  \n",
       "0  {'name': 'Jonh Doe', 'status': 'author'}  "
      ]
     },
     "execution_count": 8,
     "metadata": {},
     "output_type": "execute_result"
    }
   ],
   "source": [
    "test"
   ]
  },
  {
   "cell_type": "code",
   "execution_count": 13,
   "metadata": {},
   "outputs": [
    {
     "data": {
      "text/plain": [
       "0    {'name': 'Jonh Doe', 'status': 'author'}\n",
       "Name: user, dtype: object"
      ]
     },
     "execution_count": 13,
     "metadata": {},
     "output_type": "execute_result"
    }
   ],
   "source": [
    "test.user"
   ]
  },
  {
   "cell_type": "code",
   "execution_count": null,
   "metadata": {},
   "outputs": [],
   "source": []
  }
 ],
 "metadata": {
  "kernelspec": {
   "display_name": "Python 3",
   "language": "python",
   "name": "python3"
  },
  "language_info": {
   "codemirror_mode": {
    "name": "ipython",
    "version": 3
   },
   "file_extension": ".py",
   "mimetype": "text/x-python",
   "name": "python",
   "nbconvert_exporter": "python",
   "pygments_lexer": "ipython3",
   "version": "3.7.3"
  }
 },
 "nbformat": 4,
 "nbformat_minor": 2
}
